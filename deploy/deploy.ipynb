{
 "cells": [
  {
   "cell_type": "code",
   "execution_count": 1,
   "id": "6e5d1b98-0aef-4c1a-991b-1582074e0516",
   "metadata": {},
   "outputs": [],
   "source": [
    "from google.cloud import aiplatform\n",
    "import json"
   ]
  },
  {
   "cell_type": "markdown",
   "id": "2fc00ec3-1b3e-489f-97fb-deebd18ad72c",
   "metadata": {},
   "source": [
    "# Input Parameters"
   ]
  },
  {
   "cell_type": "code",
   "execution_count": 2,
   "id": "41db95b6-7303-4baf-a423-d5f776a5f537",
   "metadata": {},
   "outputs": [
    {
     "data": {
      "text/plain": [
       "'us-central1-docker.pkg.dev/pg-cvs-sandbox/recsys-servers/scann_index:latest'"
      ]
     },
     "execution_count": 2,
     "metadata": {},
     "output_type": "execute_result"
    }
   ],
   "source": [
    "import os\n",
    "\n",
    "import dotenv\n",
    "dotenv.load_dotenv()\n",
    "\n",
    "LOCATION=os.environ['LOCATION']\n",
    "PROJECT=os.environ['PROJECT']\n",
    "REPO_NAME=os.environ['REPO_NAME']\n",
    "IMAGE_NAME=os.environ['IMAGE_NAME']\n",
    "\n",
    "MODEL_IMAGE_URI = f\"{LOCATION}-docker.pkg.dev/{PROJECT}/{REPO_NAME}/{IMAGE_NAME}:latest\"\n",
    "MODEL_IMAGE_URI"
   ]
  },
  {
   "cell_type": "markdown",
   "id": "cb9f267c-6e80-4616-ad7f-40427f876969",
   "metadata": {},
   "source": [
    "# Configure authorization credentials for Artifact Registry"
   ]
  },
  {
   "cell_type": "code",
   "execution_count": 3,
   "id": "700a1a82-fb01-4a37-b293-8b54f7a748a7",
   "metadata": {},
   "outputs": [
    {
     "name": "stdout",
     "output_type": "stream",
     "text": [
      "\u001b[1;33mWARNING:\u001b[0m Your config file at [/home/jupyter/.docker/config.json] contains these credential helper entries:\n",
      "\n",
      "{\n",
      "  \"credHelpers\": {\n",
      "    \"gcr.io\": \"gcloud\",\n",
      "    \"us.gcr.io\": \"gcloud\",\n",
      "    \"eu.gcr.io\": \"gcloud\",\n",
      "    \"asia.gcr.io\": \"gcloud\",\n",
      "    \"staging-k8s.gcr.io\": \"gcloud\",\n",
      "    \"marketplace.gcr.io\": \"gcloud\",\n",
      "    \"us-central1-docker.pkg.dev\": \"gcloud\"\n",
      "  }\n",
      "}\n",
      "Adding credentials for: us-central1-docker.pkg.dev\n",
      "gcloud credential helpers already registered correctly.\n",
      "\n",
      "\n",
      "To take a quick anonymous survey, run:\n",
      "  $ gcloud survey\n",
      "\n"
     ]
    }
   ],
   "source": [
    "!gcloud auth configure-docker --quiet $LOCATION-docker.pkg.dev"
   ]
  },
  {
   "cell_type": "markdown",
   "id": "90f7057e-d9b5-4199-bc61-cac7ecc4ab05",
   "metadata": {},
   "source": [
    "# Create Artifact Registry Repository\n",
    "\n",
    "Note: Only needs to be ran once"
   ]
  },
  {
   "cell_type": "code",
   "execution_count": 4,
   "id": "2887ab7f-3fee-46a7-8e36-62b2aa8a113d",
   "metadata": {},
   "outputs": [
    {
     "name": "stdout",
     "output_type": "stream",
     "text": [
      "\u001b[1;31mERROR:\u001b[0m (gcloud.artifacts.repositories.create) ALREADY_EXISTS: the repository already exists\n"
     ]
    }
   ],
   "source": [
    "!gcloud artifacts repositories create $REPO_NAME \\\n",
    "    --repository-format=docker \\\n",
    "    --location=$LOCATION"
   ]
  },
  {
   "cell_type": "markdown",
   "id": "464ef6ce-217b-475e-be75-8ae97d13fb99",
   "metadata": {},
   "source": [
    "# Build and upload container"
   ]
  },
  {
   "cell_type": "code",
   "execution_count": 83,
   "id": "4f2b737a-3bb9-4589-bf03-bec4de7fd239",
   "metadata": {
    "scrolled": true,
    "tags": []
   },
   "outputs": [
    {
     "name": "stdout",
     "output_type": "stream",
     "text": [
      "Creating temporary tarball archive of 42 file(s) totalling 1.9 MiB before compression.\n",
      "Uploading tarball of [.] to [gs://pg-cvs-sandbox_cloudbuild/source/1697651266.013933-3883d8dcd8b2426390fcb75bb47f7f4d.tgz]\n",
      "Created [https://cloudbuild.googleapis.com/v1/projects/pg-cvs-sandbox/locations/us-central1/builds/206ba670-1fd3-498c-848a-31e46a694d93].\n",
      "Logs are available at [ https://console.cloud.google.com/cloud-build/builds;region=us-central1/206ba670-1fd3-498c-848a-31e46a694d93?project=939813598428 ].\n",
      "----------------------------- REMOTE BUILD OUTPUT ------------------------------\n",
      "starting build \"206ba670-1fd3-498c-848a-31e46a694d93\"\n",
      "\n",
      "FETCHSOURCE\n",
      "Fetching storage object: gs://pg-cvs-sandbox_cloudbuild/source/1697651266.013933-3883d8dcd8b2426390fcb75bb47f7f4d.tgz#1697651266597046\n",
      "Copying gs://pg-cvs-sandbox_cloudbuild/source/1697651266.013933-3883d8dcd8b2426390fcb75bb47f7f4d.tgz#1697651266597046...\n",
      "/ [1 files][  1.1 MiB/  1.1 MiB]                                                \n",
      "Operation completed over 1 objects/1.1 MiB.\n",
      "BUILD\n",
      "Starting Step #0\n",
      "Step #0: Already have image (with digest): gcr.io/cloud-builders/docker\n",
      "Step #0: latest: Pulling from pg-cvs-sandbox/recsys-servers/scann_index\n",
      "Step #0: 0fb668748fc8: Pulling fs layer\n",
      "Step #0: de96f27d9487: Pulling fs layer\n",
      "Step #0: 0d0dce5452b7: Pulling fs layer\n",
      "Step #0: 3b190c0764b5: Pulling fs layer\n",
      "Step #0: 9e55d77b5a31: Pulling fs layer\n",
      "Step #0: eb5c0fde2e19: Pulling fs layer\n",
      "Step #0: 1eb5af93509e: Pulling fs layer\n",
      "Step #0: 4a60f8dff7fd: Pulling fs layer\n",
      "Step #0: 85ba1cd0f140: Pulling fs layer\n",
      "Step #0: 4983425daedd: Pulling fs layer\n",
      "Step #0: d10bf76e378a: Pulling fs layer\n",
      "Step #0: 17f02e3f1db1: Pulling fs layer\n",
      "Step #0: 3113671e0657: Pulling fs layer\n",
      "Step #0: 575e93f2a5bc: Pulling fs layer\n",
      "Step #0: bb014256db57: Pulling fs layer\n",
      "Step #0: 0cde773a5217: Pulling fs layer\n",
      "Step #0: 4acf817e246d: Pulling fs layer\n",
      "Step #0: 3b190c0764b5: Waiting\n",
      "Step #0: 9e55d77b5a31: Waiting\n",
      "Step #0: eb5c0fde2e19: Waiting\n",
      "Step #0: 1eb5af93509e: Waiting\n",
      "Step #0: 4a60f8dff7fd: Waiting\n",
      "Step #0: 85ba1cd0f140: Waiting\n",
      "Step #0: 4983425daedd: Waiting\n",
      "Step #0: d10bf76e378a: Waiting\n",
      "Step #0: 17f02e3f1db1: Waiting\n",
      "Step #0: 3113671e0657: Waiting\n",
      "Step #0: 575e93f2a5bc: Waiting\n",
      "Step #0: bb014256db57: Waiting\n",
      "Step #0: 0cde773a5217: Waiting\n",
      "Step #0: 4acf817e246d: Waiting\n",
      "Step #0: de96f27d9487: Download complete\n",
      "Step #0: 0d0dce5452b7: Verifying Checksum\n",
      "Step #0: 0d0dce5452b7: Download complete\n",
      "Step #0: 3b190c0764b5: Verifying Checksum\n",
      "Step #0: 3b190c0764b5: Download complete\n",
      "Step #0: 0fb668748fc8: Verifying Checksum\n",
      "Step #0: 0fb668748fc8: Download complete\n",
      "Step #0: 1eb5af93509e: Verifying Checksum\n",
      "Step #0: 1eb5af93509e: Download complete\n",
      "Step #0: 4a60f8dff7fd: Verifying Checksum\n",
      "Step #0: 4a60f8dff7fd: Download complete\n",
      "Step #0: 9e55d77b5a31: Verifying Checksum\n",
      "Step #0: 9e55d77b5a31: Download complete\n",
      "Step #0: 85ba1cd0f140: Verifying Checksum\n",
      "Step #0: 85ba1cd0f140: Download complete\n",
      "Step #0: d10bf76e378a: Verifying Checksum\n",
      "Step #0: d10bf76e378a: Download complete\n",
      "Step #0: 17f02e3f1db1: Verifying Checksum\n",
      "Step #0: 17f02e3f1db1: Download complete\n",
      "Step #0: 3113671e0657: Verifying Checksum\n",
      "Step #0: 3113671e0657: Download complete\n",
      "Step #0: eb5c0fde2e19: Verifying Checksum\n",
      "Step #0: eb5c0fde2e19: Download complete\n",
      "Step #0: bb014256db57: Verifying Checksum\n",
      "Step #0: bb014256db57: Download complete\n",
      "Step #0: 575e93f2a5bc: Verifying Checksum\n",
      "Step #0: 575e93f2a5bc: Download complete\n",
      "Step #0: 4acf817e246d: Verifying Checksum\n",
      "Step #0: 4acf817e246d: Download complete\n",
      "Step #0: 4983425daedd: Verifying Checksum\n",
      "Step #0: 4983425daedd: Download complete\n",
      "Step #0: 0fb668748fc8: Pull complete\n",
      "Step #0: de96f27d9487: Pull complete\n",
      "Step #0: 0d0dce5452b7: Pull complete\n",
      "Step #0: 3b190c0764b5: Pull complete\n",
      "Step #0: 9e55d77b5a31: Pull complete\n",
      "Step #0: eb5c0fde2e19: Pull complete\n",
      "Step #0: 1eb5af93509e: Pull complete\n",
      "Step #0: 4a60f8dff7fd: Pull complete\n",
      "Step #0: 0cde773a5217: Verifying Checksum\n",
      "Step #0: 0cde773a5217: Download complete\n",
      "Step #0: 85ba1cd0f140: Pull complete\n",
      "Step #0: 4983425daedd: Pull complete\n",
      "Step #0: d10bf76e378a: Pull complete\n",
      "Step #0: 17f02e3f1db1: Pull complete\n",
      "Step #0: 3113671e0657: Pull complete\n",
      "Step #0: 575e93f2a5bc: Pull complete\n",
      "Step #0: bb014256db57: Pull complete\n",
      "Step #0: 0cde773a5217: Pull complete\n",
      "Step #0: 4acf817e246d: Pull complete\n",
      "Step #0: Digest: sha256:ad7004147101fa18bf27b45328986f451940c84fd061a459d79ab5d6b7228789\n",
      "Step #0: Status: Downloaded newer image for us-central1-docker.pkg.dev/pg-cvs-sandbox/recsys-servers/scann_index:latest\n",
      "Step #0: us-central1-docker.pkg.dev/pg-cvs-sandbox/recsys-servers/scann_index:latest\n",
      "Finished Step #0\n",
      "Starting Step #1\n",
      "Step #1: Already have image (with digest): gcr.io/cloud-builders/docker\n",
      "Step #1: Sending build context to Docker daemon  2.056MB\n",
      "Step #1: Step 1/9 : FROM tensorflow/tensorflow:2.13.0\n",
      "Step #1: 2.13.0: Pulling from tensorflow/tensorflow\n",
      "Step #1: 01085d60b3a6: Already exists\n",
      "Step #1: de96f27d9487: Already exists\n",
      "Step #1: 0d0dce5452b7: Already exists\n",
      "Step #1: 3b190c0764b5: Already exists\n",
      "Step #1: 9e55d77b5a31: Already exists\n",
      "Step #1: eb5c0fde2e19: Already exists\n",
      "Step #1: 1eb5af93509e: Already exists\n",
      "Step #1: 4a60f8dff7fd: Already exists\n",
      "Step #1: 85ba1cd0f140: Already exists\n",
      "Step #1: 4983425daedd: Already exists\n",
      "Step #1: d10bf76e378a: Already exists\n",
      "Step #1: 17f02e3f1db1: Already exists\n",
      "Step #1: Digest: sha256:f133c99eba6e59b921ea7543c81417cd831c9983f5d6ce65dff7adb0ec79d830\n",
      "Step #1: Status: Downloaded newer image for tensorflow/tensorflow:2.13.0\n",
      "Step #1:  ---> f9de31709f1f\n",
      "Step #1: Step 2/9 : WORKDIR /serve\n",
      "Step #1:  ---> Using cache\n",
      "Step #1:  ---> 06e3b616633e\n",
      "Step #1: Step 3/9 : COPY models/scann_500k scann_index\n",
      "Step #1:  ---> Using cache\n",
      "Step #1:  ---> 0c53ae8599c8\n",
      "Step #1: Step 4/9 : COPY requirements.txt requirements.txt\n",
      "Step #1:  ---> Using cache\n",
      "Step #1:  ---> edf1dfb7f019\n",
      "Step #1: Step 5/9 : RUN pip3 install -r requirements.txt\n",
      "Step #1:  ---> Using cache\n",
      "Step #1:  ---> 964950543c45\n",
      "Step #1: Step 6/9 : COPY server.py .\n",
      "Step #1:  ---> 9a1df9d9c393\n",
      "Step #1: Step 7/9 : ENV SCANN_MODEL_DIR=\"scann_index\"\n",
      "Step #1:  ---> Running in ffda0346f9fe\n",
      "Step #1: Removing intermediate container ffda0346f9fe\n",
      "Step #1:  ---> 294db1c29a67\n",
      "Step #1: Step 8/9 : ENV DEFAULT_K=\"10\"\n",
      "Step #1:  ---> Running in 182fa03e17cb\n",
      "Step #1: Removing intermediate container 182fa03e17cb\n",
      "Step #1:  ---> 6e22cd4e359c\n",
      "Step #1: Step 9/9 : ENTRYPOINT [\"python3\", \"server.py\"]\n",
      "Step #1:  ---> Running in c6aec3a1f726\n",
      "Step #1: Removing intermediate container c6aec3a1f726\n",
      "Step #1:  ---> 3dd5c5b93205\n",
      "Step #1: Successfully built 3dd5c5b93205\n",
      "Step #1: Successfully tagged us-central1-docker.pkg.dev/pg-cvs-sandbox/recsys-servers/scann_index:latest\n",
      "Finished Step #1\n",
      "PUSH\n",
      "Pushing us-central1-docker.pkg.dev/pg-cvs-sandbox/recsys-servers/scann_index:latest\n",
      "The push refers to repository [us-central1-docker.pkg.dev/pg-cvs-sandbox/recsys-servers/scann_index]\n",
      "db49efc4ee67: Preparing\n",
      "8e308fb1d3dd: Preparing\n",
      "c4cde3524733: Preparing\n",
      "bf68066e7b83: Preparing\n",
      "aa49480f17d1: Preparing\n",
      "1406b5dffb34: Preparing\n",
      "99ef47f2bc72: Preparing\n",
      "9807749939fe: Preparing\n",
      "9b8b401ebb1b: Preparing\n",
      "0747aaf638f4: Preparing\n",
      "eaa2ed848ac5: Preparing\n",
      "97270a116d63: Preparing\n",
      "ea9b0b9d379b: Preparing\n",
      "72ae43f1a623: Preparing\n",
      "e67ab25399cb: Preparing\n",
      "9a09b667a965: Preparing\n",
      "f5bb4f853c84: Preparing\n",
      "1406b5dffb34: Waiting\n",
      "99ef47f2bc72: Waiting\n",
      "9807749939fe: Waiting\n",
      "9b8b401ebb1b: Waiting\n",
      "0747aaf638f4: Waiting\n",
      "eaa2ed848ac5: Waiting\n",
      "97270a116d63: Waiting\n",
      "ea9b0b9d379b: Waiting\n",
      "72ae43f1a623: Waiting\n",
      "e67ab25399cb: Waiting\n",
      "9a09b667a965: Waiting\n",
      "f5bb4f853c84: Waiting\n",
      "c4cde3524733: Layer already exists\n",
      "aa49480f17d1: Layer already exists\n",
      "8e308fb1d3dd: Layer already exists\n",
      "bf68066e7b83: Layer already exists\n",
      "1406b5dffb34: Layer already exists\n",
      "9807749939fe: Layer already exists\n",
      "99ef47f2bc72: Layer already exists\n",
      "9b8b401ebb1b: Layer already exists\n",
      "0747aaf638f4: Layer already exists\n",
      "eaa2ed848ac5: Layer already exists\n",
      "97270a116d63: Layer already exists\n",
      "ea9b0b9d379b: Layer already exists\n",
      "72ae43f1a623: Layer already exists\n",
      "e67ab25399cb: Layer already exists\n",
      "9a09b667a965: Layer already exists\n",
      "f5bb4f853c84: Layer already exists\n",
      "db49efc4ee67: Pushed\n",
      "latest: digest: sha256:a60f9de04fdab0214fe82417ab774bef069a36042ffa3d9455893a1eded73a0f size: 3874\n",
      "DONE\n",
      "--------------------------------------------------------------------------------\n",
      "ID                                    CREATE_TIME                DURATION  SOURCE                                                                                        IMAGES                                                                          STATUS\n",
      "206ba670-1fd3-498c-848a-31e46a694d93  2023-10-18T17:47:46+00:00  1M23S     gs://pg-cvs-sandbox_cloudbuild/source/1697651266.013933-3883d8dcd8b2426390fcb75bb47f7f4d.tgz  us-central1-docker.pkg.dev/pg-cvs-sandbox/recsys-servers/scann_index (+1 more)  SUCCESS\n"
     ]
    }
   ],
   "source": [
    "!gcloud builds submit --config cloudbuild.yaml \\\n",
    "    --region=$LOCATION \\\n",
    "    --substitutions=\"_IMAGE_NAME=$MODEL_IMAGE_URI\" "
   ]
  },
  {
   "cell_type": "markdown",
   "id": "c612b4f2-9b64-48d7-8fae-b2607d124e85",
   "metadata": {},
   "source": [
    "# Test evaluation on LocalEndpoint"
   ]
  },
  {
   "cell_type": "markdown",
   "id": "9e5860f9-2365-4766-8af7-f4177c753e19",
   "metadata": {},
   "source": [
    "## Create Local Model"
   ]
  },
  {
   "cell_type": "code",
   "execution_count": 3,
   "id": "b9f6aed4-efed-4b6a-974e-509f88367a12",
   "metadata": {},
   "outputs": [],
   "source": [
    "from google.cloud.aiplatform.prediction import LocalModel\n",
    "\n",
    "local_model = LocalModel(\n",
    "    serving_container_image_uri=MODEL_IMAGE_URI,\n",
    "    serving_container_health_route='/health',\n",
    "    serving_container_predict_route='/predict',\n",
    ")"
   ]
  },
  {
   "cell_type": "markdown",
   "id": "e1676d03-b70b-40f1-86ec-f57c5ff2ed5c",
   "metadata": {},
   "source": [
    "## \"Deploy\" model to local endpoint"
   ]
  },
  {
   "cell_type": "code",
   "execution_count": 4,
   "id": "7e3b0f6f-d9ca-403d-bce5-0ae053786326",
   "metadata": {},
   "outputs": [],
   "source": [
    "local_endpoint = local_model.deploy_to_local_endpoint(\n",
    "    gpu_count=0,\n",
    ")"
   ]
  },
  {
   "cell_type": "markdown",
   "id": "06fa0a9b-4340-4abe-abd4-680cd46d4449",
   "metadata": {},
   "source": [
    "## Start serving endpoint and run health check"
   ]
  },
  {
   "cell_type": "code",
   "execution_count": 5,
   "id": "33f779dd-2081-451c-a189-4b361293a640",
   "metadata": {},
   "outputs": [
    {
     "name": "stdout",
     "output_type": "stream",
     "text": [
      "<Response [200]> b'OK'\n"
     ]
    }
   ],
   "source": [
    "local_endpoint.serve()\n",
    "\n",
    "health_check_response = local_endpoint.run_health_check()\n",
    "print(health_check_response, health_check_response.content)"
   ]
  },
  {
   "cell_type": "markdown",
   "id": "5f338c67-982a-4109-929c-ac87bd08db9e",
   "metadata": {},
   "source": [
    "## Test prediction on local endpoint"
   ]
  },
  {
   "cell_type": "code",
   "execution_count": 6,
   "id": "201a4875-319a-45c0-82e0-95161817bcb6",
   "metadata": {},
   "outputs": [
    {
     "name": "stdout",
     "output_type": "stream",
     "text": [
      "{\n",
      "  \"predictions\": [\n",
      "    {\n",
      "      \"movie_scores\": [\n",
      "        9.653619766235352,\n",
      "        7.183511734008789,\n",
      "        7.077798843383789,\n",
      "        6.192534446716309,\n",
      "        6.092672348022461,\n",
      "        5.85479736328125,\n",
      "        5.565959930419922,\n",
      "        5.52648401260376,\n",
      "        5.500728607177734,\n",
      "        5.386192321777344\n",
      "      ],\n",
      "      \"movie_titles\": [\n",
      "        \"Winnie the Pooh and the Blustery Day (1968)\",\n",
      "        \"Alien (1979)\",\n",
      "        \"Deconstructing Harry (1997)\",\n",
      "        \"Patton (1970)\",\n",
      "        \"To Wong Foo, Thanks for Everything! Julie Newmar (1995)\",\n",
      "        \"Of Love and Shadows (1994)\",\n",
      "        \"Miracle on 34th Street (1994)\",\n",
      "        \"Mask, The (1994)\",\n",
      "        \"Bed of Roses (1996)\",\n",
      "        \"Fly Away Home (1996)\"\n",
      "      ]\n",
      "    },\n",
      "    {\n",
      "      \"movie_scores\": [\n",
      "        7.910170078277588,\n",
      "        7.693970203399658,\n",
      "        7.138026714324951,\n",
      "        6.736512660980225,\n",
      "        6.736512660980225,\n",
      "        6.564693927764893,\n",
      "        6.489426612854004,\n",
      "        5.966603755950928,\n",
      "        5.5782976150512695,\n",
      "        5.205721855163574\n",
      "      ],\n",
      "      \"movie_titles\": [\n",
      "        \"Two if by Sea (1996)\",\n",
      "        \"Mask, The (1994)\",\n",
      "        \"Malice (1993)\",\n",
      "        \"Bridges of Madison County, The (1995)\",\n",
      "        \"Smoke (1995)\",\n",
      "        \"Firm, The (1993)\",\n",
      "        \"Star Wars (1977)\",\n",
      "        \"Beauty and the Beast (1991)\",\n",
      "        \"Cats Don't Dance (1997)\",\n",
      "        \"Clear and Present Danger (1994)\"\n",
      "      ]\n",
      "    }\n",
      "  ]\n",
      "}\n"
     ]
    }
   ],
   "source": [
    "from IPython.display import display, HTML\n",
    "\n",
    "with open('request.json', 'r') as f:\n",
    "    request = f.read()\n",
    "    prediction_res = local_endpoint.predict(\n",
    "        request=request, headers={\"Content-Type\": \"application/json\"}\n",
    "    )\n",
    "\n",
    "if prediction_res.status_code == 200:\n",
    "    prediction = prediction_res.json()\n",
    "    print(json.dumps(prediction, indent=2))\n",
    "else:\n",
    "    display(HTML(prediction_res.text))"
   ]
  },
  {
   "cell_type": "markdown",
   "id": "e874cb20-2dae-4267-aea5-9771fc27f7bb",
   "metadata": {},
   "source": [
    "## Stop serving local endpoint"
   ]
  },
  {
   "cell_type": "code",
   "execution_count": 7,
   "id": "739a93a0-2d1c-4c53-b23e-ad962a4f04e6",
   "metadata": {},
   "outputs": [],
   "source": [
    "local_endpoint.stop()"
   ]
  },
  {
   "cell_type": "markdown",
   "id": "e1c96d6b-8550-47ba-ab7c-91ef71a4a065",
   "metadata": {},
   "source": [
    "# Deploy prediction container to Model Registry"
   ]
  },
  {
   "cell_type": "code",
   "execution_count": 8,
   "id": "6c0e56ee-9f66-4c56-a256-a1c3e9ead866",
   "metadata": {},
   "outputs": [],
   "source": [
    "try:\n",
    "    [parent_model] = aiplatform.Model.list(\n",
    "        filter=f'display_name=\"{IMAGE_NAME}\"',\n",
    "        project=PROJECT,\n",
    "        location=LOCATION,\n",
    "    )\n",
    "    model = aiplatform.Model.upload(\n",
    "        parent_model=parent_model.resource_name,\n",
    "        serving_container_image_uri=MODEL_IMAGE_URI,\n",
    "        serving_container_health_route=\"/health\",\n",
    "        serving_container_predict_route=\"/predict\",\n",
    "        project=PROJECT,\n",
    "        location=LOCATION,\n",
    "        sync=True,\n",
    "    )\n",
    "except:\n",
    "    model = aiplatform.Model.upload(\n",
    "        serving_container_image_uri=MODEL_IMAGE_URI,\n",
    "        serving_container_health_route=\"/health\",\n",
    "        serving_container_predict_route=\"/predict\",\n",
    "        project=PROJECT,\n",
    "        location=LOCATION,\n",
    "        sync=True,\n",
    "    )"
   ]
  },
  {
   "cell_type": "markdown",
   "id": "6c0d4380-998c-4d0a-bbc3-2f90742912d1",
   "metadata": {},
   "source": [
    "# Create Vertex Endpoint"
   ]
  },
  {
   "cell_type": "code",
   "execution_count": 9,
   "id": "41f211d7-e66c-4164-9e13-91ac91a461d5",
   "metadata": {},
   "outputs": [
    {
     "name": "stdout",
     "output_type": "stream",
     "text": [
      "Endpoint already exists\n"
     ]
    }
   ],
   "source": [
    "try:\n",
    "    [endpoint] = aiplatform.Endpoint.list(\n",
    "        filter=f'display_name=\"{IMAGE_NAME}_endpoint\"',\n",
    "        project=PROJECT,\n",
    "        location=LOCATION,\n",
    "    )\n",
    "    print(\"Endpoint already exists\")\n",
    "except:\n",
    "    endpoint = aiplatform.Endpoint.create(\n",
    "        display_name=f\"{IMAGE_NAME}_endpoint\",\n",
    "        project=PROJECT,\n",
    "        location=LOCATION,\n",
    "        sync=True,\n",
    "    )\n",
    "    print(\"Endpoint created:\", endpoint.resource_name)"
   ]
  },
  {
   "cell_type": "markdown",
   "id": "81a6dd1a-ebf4-414b-89ad-2c8dda7095d2",
   "metadata": {},
   "source": [
    "# Deploy Model to Vertex Endpoint"
   ]
  },
  {
   "cell_type": "code",
   "execution_count": 10,
   "id": "b863b1cf-2b36-4dba-bedf-12700dc53c06",
   "metadata": {},
   "outputs": [],
   "source": [
    "deployed_model = model.deploy(\n",
    "    endpoint=endpoint,\n",
    "    traffic_percentage=100,\n",
    "    machine_type=\"n1-standard-4\",\n",
    "    min_replica_count=1,\n",
    "    max_replica_count=1,\n",
    "    sync=True,\n",
    ")"
   ]
  },
  {
   "cell_type": "markdown",
   "id": "299ba53b-91ce-4828-bd36-6376f9b98a7b",
   "metadata": {},
   "source": [
    "# Test Prediction on Endpoint"
   ]
  },
  {
   "cell_type": "code",
   "execution_count": 16,
   "id": "34b6acec-96da-4d7b-aa6f-62df000c22a9",
   "metadata": {},
   "outputs": [
    {
     "name": "stdout",
     "output_type": "stream",
     "text": [
      "Elapsed seconds: 2.4627251625061035\n"
     ]
    }
   ],
   "source": [
    "import time\n",
    "import numpy as np\n",
    "\n",
    "start_time = time.time()\n",
    "\n",
    "test_prediction = deployed_model.predict(\n",
    "    instances = [\n",
    "        {\n",
    "            \"user_id\": str(np.random.randint(1, 10_000)),\n",
    "            \"exclusions\": [\"Fargo (1996)\"]\n",
    "        }\n",
    "        for _ in range(2_000)\n",
    "    ],\n",
    "    parameters = {\n",
    "        \"k\": 5\n",
    "    }\n",
    ")\n",
    "\n",
    "end_time = time.time()\n",
    "\n",
    "print(\"Elapsed seconds:\", end_time - start_time)"
   ]
  },
  {
   "cell_type": "code",
   "execution_count": 15,
   "id": "275b8969-7ac3-4c1b-b20b-14a594073bc6",
   "metadata": {},
   "outputs": [
    {
     "name": "stdout",
     "output_type": "stream",
     "text": [
      "[\n",
      "  {\n",
      "    \"movie_scores\": [\n",
      "      0.37508824467659,\n",
      "      0.27032870054245,\n",
      "      0.2434602379798889,\n",
      "      0.2323040068149567,\n",
      "      0.2177023887634277\n",
      "    ],\n",
      "    \"movie_titles\": [\n",
      "      \"Devil's Own, The (1997)\",\n",
      "      \"Contact (1997)\",\n",
      "      \"Caro Diario (Dear Diary) (1994)\",\n",
      "      \"As Good As It Gets (1997)\",\n",
      "      \"George of the Jungle (1997)\"\n",
      "    ]\n",
      "  },\n",
      "  {\n",
      "    \"movie_titles\": [\n",
      "      \"Devil's Own, The (1997)\",\n",
      "      \"Contact (1997)\",\n",
      "      \"Caro Diario (Dear Diary) (1994)\",\n",
      "      \"As Good As It Gets (1997)\",\n",
      "      \"George of the Jungle (1997)\"\n",
      "    ],\n",
      "    \"movie_scores\": [\n",
      "      0.37508824467659,\n",
      "      0.27032870054245,\n",
      "      0.2434602379798889,\n",
      "      0.2323040068149567,\n",
      "      0.2177023887634277\n",
      "    ]\n",
      "  },\n",
      "  {\n",
      "    \"movie_scores\": [\n",
      "      0.37508824467659,\n",
      "      0.27032870054245,\n",
      "      0.2434602379798889,\n",
      "      0.2323040068149567,\n",
      "      0.2177023887634277\n",
      "    ],\n",
      "    \"movie_titles\": [\n",
      "      \"Devil's Own, The (1997)\",\n",
      "      \"Contact (1997)\",\n",
      "      \"Caro Diario (Dear Diary) (1994)\",\n",
      "      \"As Good As It Gets (1997)\",\n",
      "      \"George of the Jungle (1997)\"\n",
      "    ]\n",
      "  },\n",
      "  {\n",
      "    \"movie_titles\": [\n",
      "      \"Devil's Own, The (1997)\",\n",
      "      \"Contact (1997)\",\n",
      "      \"Caro Diario (Dear Diary) (1994)\",\n",
      "      \"As Good As It Gets (1997)\",\n",
      "      \"George of the Jungle (1997)\"\n",
      "    ],\n",
      "    \"movie_scores\": [\n",
      "      0.37508824467659,\n",
      "      0.27032870054245,\n",
      "      0.2434602379798889,\n",
      "      0.2323040068149567,\n",
      "      0.2177023887634277\n",
      "    ]\n",
      "  },\n",
      "  {\n",
      "    \"movie_scores\": [\n",
      "      0.37508824467659,\n",
      "      0.27032870054245,\n",
      "      0.2434602379798889,\n",
      "      0.2323040068149567,\n",
      "      0.2177023887634277\n",
      "    ],\n",
      "    \"movie_titles\": [\n",
      "      \"Devil's Own, The (1997)\",\n",
      "      \"Contact (1997)\",\n",
      "      \"Caro Diario (Dear Diary) (1994)\",\n",
      "      \"As Good As It Gets (1997)\",\n",
      "      \"George of the Jungle (1997)\"\n",
      "    ]\n",
      "  },\n",
      "  {\n",
      "    \"movie_scores\": [\n",
      "      0.37508824467659,\n",
      "      0.27032870054245,\n",
      "      0.2434602379798889,\n",
      "      0.2323040068149567,\n",
      "      0.2177023887634277\n",
      "    ],\n",
      "    \"movie_titles\": [\n",
      "      \"Devil's Own, The (1997)\",\n",
      "      \"Contact (1997)\",\n",
      "      \"Caro Diario (Dear Diary) (1994)\",\n",
      "      \"As Good As It Gets (1997)\",\n",
      "      \"George of the Jungle (1997)\"\n",
      "    ]\n",
      "  },\n",
      "  {\n",
      "    \"movie_scores\": [\n",
      "      0.37508824467659,\n",
      "      0.27032870054245,\n",
      "      0.2434602379798889,\n",
      "      0.2323040068149567,\n",
      "      0.2177023887634277\n",
      "    ],\n",
      "    \"movie_titles\": [\n",
      "      \"Devil's Own, The (1997)\",\n",
      "      \"Contact (1997)\",\n",
      "      \"Caro Diario (Dear Diary) (1994)\",\n",
      "      \"As Good As It Gets (1997)\",\n",
      "      \"George of the Jungle (1997)\"\n",
      "    ]\n",
      "  },\n",
      "  {\n",
      "    \"movie_scores\": [\n",
      "      0.37508824467659,\n",
      "      0.27032870054245,\n",
      "      0.2434602379798889,\n",
      "      0.2323040068149567,\n",
      "      0.2177023887634277\n",
      "    ],\n",
      "    \"movie_titles\": [\n",
      "      \"Devil's Own, The (1997)\",\n",
      "      \"Contact (1997)\",\n",
      "      \"Caro Diario (Dear Diary) (1994)\",\n",
      "      \"As Good As It Gets (1997)\",\n",
      "      \"George of the Jungle (1997)\"\n",
      "    ]\n",
      "  },\n",
      "  {\n",
      "    \"movie_scores\": [\n",
      "      10.09129810333252,\n",
      "      9.147604942321777,\n",
      "      8.389761924743652,\n",
      "      7.477767944335938,\n",
      "      6.276134490966797\n",
      "    ],\n",
      "    \"movie_titles\": [\n",
      "      \"Thirty-Two Short Films About Glenn Gould (1993)\",\n",
      "      \"Full Monty, The (1997)\",\n",
      "      \"Crumb (1994)\",\n",
      "      \"Apt Pupil (1998)\",\n",
      "      \"Fear (1996)\"\n",
      "    ]\n",
      "  },\n",
      "  {\n",
      "    \"movie_scores\": [\n",
      "      8.444220542907715,\n",
      "      7.915183544158936,\n",
      "      5.392855644226074,\n",
      "      5.217970371246338,\n",
      "      4.611270904541016\n",
      "    ],\n",
      "    \"movie_titles\": [\n",
      "      \"Lost Highway (1997)\",\n",
      "      \"Lone Star (1996)\",\n",
      "      \"Liar Liar (1997)\",\n",
      "      \"Braindead (1992)\",\n",
      "      \"People vs. Larry Flynt, The (1996)\"\n",
      "    ]\n",
      "  }\n",
      "]\n"
     ]
    }
   ],
   "source": [
    "prediction_num_display = min(10, len(test_prediction.predictions))\n",
    "\n",
    "print(json.dumps(test_prediction.predictions[:prediction_num_display], indent=2))"
   ]
  },
  {
   "cell_type": "code",
   "execution_count": null,
   "id": "64df9185-85bc-4288-a9fe-8537b2d6206b",
   "metadata": {},
   "outputs": [],
   "source": []
  }
 ],
 "metadata": {
  "environment": {
   "kernel": "python3",
   "name": "tf2-gpu.2-13.m111",
   "type": "gcloud",
   "uri": "gcr.io/deeplearning-platform-release/tf2-gpu.2-13:m111"
  },
  "kernelspec": {
   "display_name": "Python 3",
   "language": "python",
   "name": "python3"
  },
  "language_info": {
   "codemirror_mode": {
    "name": "ipython",
    "version": 3
   },
   "file_extension": ".py",
   "mimetype": "text/x-python",
   "name": "python",
   "nbconvert_exporter": "python",
   "pygments_lexer": "ipython3",
   "version": "3.10.12"
  }
 },
 "nbformat": 4,
 "nbformat_minor": 5
}
