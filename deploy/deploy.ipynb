{
 "cells": [
  {
   "cell_type": "code",
   "execution_count": null,
   "id": "6e5d1b98-0aef-4c1a-991b-1582074e0516",
   "metadata": {},
   "outputs": [],
   "source": [
    "from google.cloud import aiplatform\n",
    "import json"
   ]
  },
  {
   "cell_type": "markdown",
   "id": "2fc00ec3-1b3e-489f-97fb-deebd18ad72c",
   "metadata": {},
   "source": [
    "# Input Parameters"
   ]
  },
  {
   "cell_type": "code",
   "execution_count": null,
   "id": "41db95b6-7303-4baf-a423-d5f776a5f537",
   "metadata": {},
   "outputs": [],
   "source": [
    "import os\n",
    "\n",
    "import dotenv\n",
    "dotenv.load_dotenv()\n",
    "\n",
    "LOCATION=os.environ['LOCATION']\n",
    "PROJECT=os.environ['PROJECT']\n",
    "REPO_NAME=os.environ['REPO_NAME']\n",
    "IMAGE_NAME=os.environ['IMAGE_NAME']\n",
    "\n",
    "MODEL_IMAGE_URI = f\"{LOCATION}-docker.pkg.dev/{PROJECT}/{REPO_NAME}/{IMAGE_NAME}:latest\"\n",
    "MODEL_IMAGE_URI"
   ]
  },
  {
   "cell_type": "markdown",
   "id": "cb9f267c-6e80-4616-ad7f-40427f876969",
   "metadata": {},
   "source": [
    "# Configure authorization credentials for Artifact Registry"
   ]
  },
  {
   "cell_type": "code",
   "execution_count": null,
   "id": "700a1a82-fb01-4a37-b293-8b54f7a748a7",
   "metadata": {},
   "outputs": [],
   "source": [
    "!gcloud auth configure-docker --quiet $LOCATION-docker.pkg.dev"
   ]
  },
  {
   "cell_type": "markdown",
   "id": "90f7057e-d9b5-4199-bc61-cac7ecc4ab05",
   "metadata": {},
   "source": [
    "# Create Artifact Registry Repository\n",
    "\n",
    "Note: Only needs to be ran once"
   ]
  },
  {
   "cell_type": "code",
   "execution_count": null,
   "id": "2887ab7f-3fee-46a7-8e36-62b2aa8a113d",
   "metadata": {},
   "outputs": [],
   "source": [
    "!gcloud artifacts repositories create $REPO_NAME \\\n",
    "    --repository-format=docker \\\n",
    "    --location=$LOCATION"
   ]
  },
  {
   "cell_type": "markdown",
   "id": "464ef6ce-217b-475e-be75-8ae97d13fb99",
   "metadata": {},
   "source": [
    "# Build and upload container"
   ]
  },
  {
   "cell_type": "code",
   "execution_count": null,
   "id": "4f2b737a-3bb9-4589-bf03-bec4de7fd239",
   "metadata": {
    "scrolled": true,
    "tags": []
   },
   "outputs": [],
   "source": [
    "!gcloud builds submit --config cloudbuild.yaml \\\n",
    "    --region=$LOCATION \\\n",
    "    --substitutions=\"_IMAGE_NAME=$MODEL_IMAGE_URI\" "
   ]
  },
  {
   "cell_type": "markdown",
   "id": "c612b4f2-9b64-48d7-8fae-b2607d124e85",
   "metadata": {},
   "source": [
    "# Test evaluation on LocalEndpoint"
   ]
  },
  {
   "cell_type": "markdown",
   "id": "9e5860f9-2365-4766-8af7-f4177c753e19",
   "metadata": {},
   "source": [
    "## Create Local Model"
   ]
  },
  {
   "cell_type": "code",
   "execution_count": null,
   "id": "b9f6aed4-efed-4b6a-974e-509f88367a12",
   "metadata": {},
   "outputs": [],
   "source": [
    "from google.cloud.aiplatform.prediction import LocalModel\n",
    "\n",
    "local_model = LocalModel(\n",
    "    serving_container_image_uri=MODEL_IMAGE_URI,\n",
    "    serving_container_health_route='/health',\n",
    "    serving_container_predict_route='/predict',\n",
    ")"
   ]
  },
  {
   "cell_type": "markdown",
   "id": "e1676d03-b70b-40f1-86ec-f57c5ff2ed5c",
   "metadata": {},
   "source": [
    "## \"Deploy\" model to local endpoint"
   ]
  },
  {
   "cell_type": "code",
   "execution_count": null,
   "id": "7e3b0f6f-d9ca-403d-bce5-0ae053786326",
   "metadata": {},
   "outputs": [],
   "source": [
    "local_endpoint = local_model.deploy_to_local_endpoint(\n",
    "    gpu_count=0,\n",
    ")"
   ]
  },
  {
   "cell_type": "markdown",
   "id": "06fa0a9b-4340-4abe-abd4-680cd46d4449",
   "metadata": {},
   "source": [
    "## Start serving endpoint and run health check"
   ]
  },
  {
   "cell_type": "code",
   "execution_count": null,
   "id": "33f779dd-2081-451c-a189-4b361293a640",
   "metadata": {},
   "outputs": [],
   "source": [
    "local_endpoint.serve()\n",
    "\n",
    "health_check_response = local_endpoint.run_health_check()\n",
    "print(health_check_response, health_check_response.content)"
   ]
  },
  {
   "cell_type": "markdown",
   "id": "5f338c67-982a-4109-929c-ac87bd08db9e",
   "metadata": {},
   "source": [
    "## Test prediction on local endpoint"
   ]
  },
  {
   "cell_type": "code",
   "execution_count": null,
   "id": "201a4875-319a-45c0-82e0-95161817bcb6",
   "metadata": {},
   "outputs": [],
   "source": [
    "from IPython.display import display, HTML\n",
    "\n",
    "with open('request.json', 'r') as f:\n",
    "    request = f.read()\n",
    "    prediction_res = local_endpoint.predict(\n",
    "        request=request, headers={\"Content-Type\": \"application/json\"}\n",
    "    )\n",
    "\n",
    "if prediction_res.status_code == 200:\n",
    "    prediction = prediction_res.json()\n",
    "    print(json.dumps(prediction, indent=2))\n",
    "else:\n",
    "    display(HTML(prediction_res.text))"
   ]
  },
  {
   "cell_type": "markdown",
   "id": "e874cb20-2dae-4267-aea5-9771fc27f7bb",
   "metadata": {},
   "source": [
    "## Stop serving local endpoint"
   ]
  },
  {
   "cell_type": "code",
   "execution_count": null,
   "id": "739a93a0-2d1c-4c53-b23e-ad962a4f04e6",
   "metadata": {},
   "outputs": [],
   "source": [
    "local_endpoint.stop()"
   ]
  },
  {
   "cell_type": "markdown",
   "id": "e1c96d6b-8550-47ba-ab7c-91ef71a4a065",
   "metadata": {},
   "source": [
    "# Deploy prediction container to Model Registry"
   ]
  },
  {
   "cell_type": "code",
   "execution_count": null,
   "id": "6c0e56ee-9f66-4c56-a256-a1c3e9ead866",
   "metadata": {},
   "outputs": [],
   "source": [
    "try:\n",
    "    [parent_model] = aiplatform.Model.list(\n",
    "        filter=f'display_name=\"{IMAGE_NAME}\"',\n",
    "        project=PROJECT,\n",
    "        location=LOCATION,\n",
    "    )\n",
    "    model = aiplatform.Model.upload(\n",
    "        parent_model=parent_model.resource_name,\n",
    "        serving_container_image_uri=MODEL_IMAGE_URI,\n",
    "        serving_container_health_route=\"/health\",\n",
    "        serving_container_predict_route=\"/predict\",\n",
    "        project=PROJECT,\n",
    "        location=LOCATION,\n",
    "        sync=True,\n",
    "    )\n",
    "except:\n",
    "    model = aiplatform.Model.upload(\n",
    "        serving_container_image_uri=MODEL_IMAGE_URI,\n",
    "        serving_container_health_route=\"/health\",\n",
    "        serving_container_predict_route=\"/predict\",\n",
    "        project=PROJECT,\n",
    "        location=LOCATION,\n",
    "        sync=True,\n",
    "    )"
   ]
  },
  {
   "cell_type": "markdown",
   "id": "6c0d4380-998c-4d0a-bbc3-2f90742912d1",
   "metadata": {},
   "source": [
    "# Create Vertex Endpoint"
   ]
  },
  {
   "cell_type": "code",
   "execution_count": null,
   "id": "41f211d7-e66c-4164-9e13-91ac91a461d5",
   "metadata": {},
   "outputs": [],
   "source": [
    "try:\n",
    "    [endpoint] = aiplatform.Endpoint.list(\n",
    "        filter=f'display_name=\"{IMAGE_NAME}_endpoint\"',\n",
    "        project=PROJECT,\n",
    "        location=LOCATION,\n",
    "    )\n",
    "    print(\"Endpoint already exists\")\n",
    "except:\n",
    "    endpoint = aiplatform.Endpoint.create(\n",
    "        display_name=f\"{IMAGE_NAME}_endpoint\",\n",
    "        project=PROJECT,\n",
    "        location=LOCATION,\n",
    "        sync=True,\n",
    "    )\n",
    "    print(\"Endpoint created:\", endpoint.resource_name)"
   ]
  },
  {
   "cell_type": "markdown",
   "id": "81a6dd1a-ebf4-414b-89ad-2c8dda7095d2",
   "metadata": {},
   "source": [
    "# Deploy Model to Vertex Endpoint"
   ]
  },
  {
   "cell_type": "code",
   "execution_count": null,
   "id": "b863b1cf-2b36-4dba-bedf-12700dc53c06",
   "metadata": {},
   "outputs": [],
   "source": [
    "deployed_model = model.deploy(\n",
    "    endpoint=endpoint,\n",
    "    traffic_percentage=100,\n",
    "    machine_type=\"n1-standard-4\",\n",
    "    min_replica_count=1,\n",
    "    max_replica_count=1,\n",
    "    sync=True,\n",
    ")"
   ]
  },
  {
   "cell_type": "markdown",
   "id": "299ba53b-91ce-4828-bd36-6376f9b98a7b",
   "metadata": {},
   "source": [
    "# Test Prediction on Endpoint"
   ]
  },
  {
   "cell_type": "code",
   "execution_count": null,
   "id": "34b6acec-96da-4d7b-aa6f-62df000c22a9",
   "metadata": {},
   "outputs": [],
   "source": [
    "import time\n",
    "import numpy as np\n",
    "\n",
    "start_time = time.time()\n",
    "\n",
    "test_prediction = deployed_model.predict(\n",
    "    instances = [\n",
    "        {\n",
    "            \"user_id\": str(np.random.randint(1, 10_000)),\n",
    "            \"exclusions\": [\"Fargo (1996)\"]\n",
    "        }\n",
    "        for _ in range(2_000)\n",
    "    ],\n",
    "    parameters = {\n",
    "        \"k\": 5\n",
    "    }\n",
    ")\n",
    "\n",
    "end_time = time.time()\n",
    "\n",
    "print(\"Elapsed seconds:\", end_time - start_time)"
   ]
  },
  {
   "cell_type": "code",
   "execution_count": null,
   "id": "275b8969-7ac3-4c1b-b20b-14a594073bc6",
   "metadata": {},
   "outputs": [],
   "source": [
    "prediction_num_display = min(10, len(test_prediction.predictions))\n",
    "\n",
    "print(json.dumps(test_prediction.predictions[:prediction_num_display], indent=2))"
   ]
  },
  {
   "cell_type": "code",
   "execution_count": null,
   "id": "64df9185-85bc-4288-a9fe-8537b2d6206b",
   "metadata": {},
   "outputs": [],
   "source": []
  }
 ],
 "metadata": {
  "environment": {
   "kernel": "python3",
   "name": "tf2-gpu.2-13.m111",
   "type": "gcloud",
   "uri": "gcr.io/deeplearning-platform-release/tf2-gpu.2-13:m111"
  },
  "kernelspec": {
   "display_name": "Python 3",
   "language": "python",
   "name": "python3"
  },
  "language_info": {
   "codemirror_mode": {
    "name": "ipython",
    "version": 3
   },
   "file_extension": ".py",
   "mimetype": "text/x-python",
   "name": "python",
   "nbconvert_exporter": "python",
   "pygments_lexer": "ipython3",
   "version": "3.10.12"
  }
 },
 "nbformat": 4,
 "nbformat_minor": 5
}
